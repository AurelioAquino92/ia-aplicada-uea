{
  "cells": [
    {
      "cell_type": "markdown",
      "metadata": {
        "id": "nQSmBmLSfV_o"
      },
      "source": [
        "# Atividade Prática 2.2 - CIFAR 10\n",
        "\n",
        "* Disciplina _Inteligência Artificial Aplicada_\n",
        "* Professora: Elloá B. Guedes (ebgcosta@uea.edu.br)\n",
        "* Data de apresentação: 26 de janeiro de 2024\n",
        "* Data limite de entrega: 01 de fevereiro de 2024\n",
        "\n",
        "\n",
        "## Equipe\n",
        "* Integrante 1: *seu nome aqui*\n",
        "* Integrante 2: *seu nome aqui*\n",
        "\n",
        "\n",
        "## Contexto: Classificação de Imagens\n",
        "\n",
        "O CIFAR-10 é um conjunto de dados amplamente utilizado na comunidade de aprendizado de máquina e visão computacional para fins de treinamento e avaliação de algoritmos de classificação de imagem. O nome \"CIFAR\" é uma abreviação de \"Canadian Institute for Advanced Research\" (Instituto Canadense de Pesquisa Avançada), que é a organização que inicialmente coletou e disponibilizou esse conjunto de dados.\n",
        "\n",
        "## Base de Dados\n",
        "\n",
        "Disponível em: https://www.cs.toronto.edu/~kriz/cifar.html"
      ]
    },
    {
      "cell_type": "code",
      "execution_count": null,
      "metadata": {
        "id": "bI7ujTRdfLhh"
      },
      "outputs": [],
      "source": [
        "import keras"
      ]
    },
    {
      "cell_type": "code",
      "execution_count": null,
      "metadata": {
        "id": "ZH_4IWDsfVxT"
      },
      "outputs": [],
      "source": [
        "## Abrir a base de dados\n",
        "(X_train, y_train), (X_test, y_test) = keras.datasets.cifar10.load_data()"
      ]
    },
    {
      "cell_type": "markdown",
      "metadata": {
        "id": "iby-6xhBhSZk"
      },
      "source": [
        "## Análise exploratória\n",
        "\n",
        "1. Quantos exemplos há no conjunto de treino?\n",
        "2. Quantos exemplos há no conjunto de teste?\n",
        "3. Imprima o exemplo 42 do conjunto de treinamento.\n",
        "4. Quantas classes há na tarefa? Qual a nomenclatura?\n",
        "5. Imprima uma amostra de exemplos do conjunto de treinamento\n",
        "6. As classes estão balanceadas no treinamento?\n"
      ]
    },
    {
      "cell_type": "code",
      "execution_count": null,
      "metadata": {
        "id": "GtvLOWSWhPlq"
      },
      "outputs": [],
      "source": []
    },
    {
      "cell_type": "code",
      "execution_count": null,
      "metadata": {
        "id": "XUpTmdSQhqYW"
      },
      "outputs": [],
      "source": []
    },
    {
      "cell_type": "code",
      "execution_count": null,
      "metadata": {
        "id": "k-b-wE7whr5p"
      },
      "outputs": [],
      "source": []
    },
    {
      "cell_type": "code",
      "execution_count": null,
      "metadata": {
        "id": "ySjQSX3Rh0c4"
      },
      "outputs": [],
      "source": []
    },
    {
      "cell_type": "code",
      "execution_count": null,
      "metadata": {
        "id": "VHGCXeP9QKPl"
      },
      "outputs": [],
      "source": []
    },
    {
      "cell_type": "code",
      "execution_count": null,
      "metadata": {
        "id": "dD8FRiZvh5jM"
      },
      "outputs": [],
      "source": [
        "import matplotlib.pyplot as plt\n",
        "for i in range(9):\n",
        " plt.subplot(330 + 1 + i)\n",
        " plt.imshow(X_train[i])\n",
        "plt.show()"
      ]
    },
    {
      "cell_type": "markdown",
      "metadata": {
        "id": "vD3ko4Ja8KBz"
      },
      "source": [
        "## Normalização dos dados de treinamento\n",
        "\n",
        "Para uma melhor performance dos modelos de Redes Neurais no treinamento em bases de dados grandes, o ideal é que os valores de entrada estejam no intervalo [0,1]\n",
        "\n",
        "\n",
        " Relembre que neste cenário que as entradas são matrizes 28x28 de pixels e que o maior valor que um pixel pode assumir é 255"
      ]
    },
    {
      "cell_type": "code",
      "execution_count": null,
      "metadata": {
        "id": "EOcT3Br0jpKz"
      },
      "outputs": [],
      "source": [
        "X_train, X_test = X_train/255, X_test/255"
      ]
    },
    {
      "cell_type": "code",
      "execution_count": null,
      "metadata": {},
      "outputs": [],
      "source": [
        "y_train_cat = keras.utils.to_categorical(y_train)\n",
        "y_test_cat = keras.utils.to_categorical(y_test)"
      ]
    },
    {
      "cell_type": "markdown",
      "metadata": {
        "id": "uDNOqheH82ti"
      },
      "source": [
        "## Definição do modelo\n",
        "\n",
        "Vamos construir uma Rede Neural Convolucional simples, lembrando que:\n",
        "\n",
        "- A dimensão da entrada é 28x28x1.\n",
        "- A Rede convolucional possui estrutura sequencial.\n",
        "- O problema é relativamente simples, pois não há informações de cores.  \n",
        "\n",
        "Essa rede neural terá as seguintes camadas:\n",
        "\n",
        "1. Camada convolucional 2D com 32 neurônios, função relu e filtros (3,3)\n",
        "2. Camada MaxPooling 2D com filtros 2x2\n",
        "3. Camada Flatten\n",
        "4. Rede Neural MLP com 2 camadas para classificar as características extraídas.\n",
        "  - Camanda Densa com 100 neurônios e função de ativação ReLU.\n",
        "  -  Camanda Densa com 1 neurônio para cada classe do problema e função de ativação softmax.\n"
      ]
    },
    {
      "cell_type": "code",
      "execution_count": null,
      "metadata": {
        "id": "vlIVeG1v8I9g"
      },
      "outputs": [],
      "source": [
        "INPUT_SHAPE = (32, 32, 3)\n",
        "BATCH_SIZE = 32\n",
        "EPOCHS = 20"
      ]
    },
    {
      "cell_type": "code",
      "execution_count": null,
      "metadata": {},
      "outputs": [],
      "source": [
        "model = keras.models.Sequential()\n",
        "model.add(keras.layers.Conv2D(512, kernel_size=(3, 3), activation='relu', input_shape=INPUT_SHAPE))\n",
        "model.add(keras.layers.MaxPool2D((2, 2)))\n",
        "model.add(keras.layers.Dropout(0.2))\n",
        "model.add(keras.layers.Conv2D(128, kernel_size=(3, 3)))\n",
        "model.add(keras.layers.MaxPool2D((2, 2)))\n",
        "model.add(keras.layers.Dropout(0.2))\n",
        "model.add(keras.layers.Conv2D(64, kernel_size=(3, 3)))\n",
        "model.add(keras.layers.MaxPool2D((2, 2)))\n",
        "model.add(keras.layers.Dropout(0.2))\n",
        "model.add(keras.layers.Flatten())\n",
        "model.add(keras.layers.Dense(2000, activation='relu'))\n",
        "model.add(keras.layers.Dropout(0.2))\n",
        "model.add(keras.layers.Dense(2000, activation='relu'))\n",
        "model.add(keras.layers.Dropout(0.2))\n",
        "model.add(keras.layers.Dense(10, activation='softmax'))\n",
        "model.compile(metrics=['accuracy'], loss='categorical_crossentropy')\n"
      ]
    },
    {
      "cell_type": "markdown",
      "metadata": {
        "id": "WqB3Q_PIVD8T"
      },
      "source": [
        "## Visualize a quantidade de parâmetros que o modelo possui"
      ]
    },
    {
      "cell_type": "code",
      "execution_count": null,
      "metadata": {
        "id": "xVcLsxn-SshM"
      },
      "outputs": [],
      "source": [
        "model.summary()"
      ]
    },
    {
      "cell_type": "markdown",
      "metadata": {
        "id": "hfjfTOevVKtQ"
      },
      "source": [
        "## Treinamento do Modelo\n",
        "\n",
        "Efetue o treinamento do modelo com os seguintes parâmetros:\n",
        "\n",
        "- Épocas: 20\n",
        "- batch_size = 32\n",
        "- validation_split = 0.1\n",
        "- verbose = 1"
      ]
    },
    {
      "cell_type": "code",
      "execution_count": null,
      "metadata": {},
      "outputs": [],
      "source": [
        "import tensorflow as tf\n",
        "tf.config.list_physical_devices('GPU')"
      ]
    },
    {
      "cell_type": "code",
      "execution_count": null,
      "metadata": {},
      "outputs": [],
      "source": [
        "from tensorflow.python.keras import backend as K\n",
        "K._get_available_gpus()"
      ]
    },
    {
      "cell_type": "code",
      "execution_count": null,
      "metadata": {
        "id": "QJl5qCQyQuiG"
      },
      "outputs": [],
      "source": [
        "model.fit(X_train, y_train_cat, BATCH_SIZE, EPOCHS, 1, validation_split=0.1)"
      ]
    },
    {
      "cell_type": "markdown",
      "metadata": {
        "id": "tesWTSS4VcNE"
      },
      "source": [
        "## Visualize os gráficos de treinamento do modelo\n",
        "\n",
        "- Perda (loss)\n",
        "- Acurácia"
      ]
    },
    {
      "cell_type": "code",
      "execution_count": null,
      "metadata": {},
      "outputs": [],
      "source": [
        "from matplotlib import pyplot as plt"
      ]
    },
    {
      "cell_type": "code",
      "execution_count": null,
      "metadata": {
        "id": "jxU_3KEwRQeT"
      },
      "outputs": [],
      "source": [
        "plt.plot(model.history.history['loss'], color='b')\n",
        "plt.show()"
      ]
    },
    {
      "cell_type": "code",
      "execution_count": null,
      "metadata": {
        "id": "VKpAh8RrRxue"
      },
      "outputs": [],
      "source": []
    },
    {
      "cell_type": "markdown",
      "metadata": {
        "id": "sDHNtRayVjUX"
      },
      "source": [
        "## Análise de Desempenho\n",
        "\n",
        "Efetue a previsão do modelo para o conjunto de testes e calcule as seguintes métricas\n",
        "\n",
        "- Acurácia\n",
        "- F1-Score\n",
        "\n",
        "Visualize também a matriz de confusão para as previsões efetuadas"
      ]
    },
    {
      "cell_type": "code",
      "execution_count": null,
      "metadata": {
        "id": "HWnMUaEnSqXe"
      },
      "outputs": [],
      "source": [
        "from sklearn.metrics import accuracy_score, f1_score\n",
        "import numpy as np"
      ]
    },
    {
      "cell_type": "code",
      "execution_count": null,
      "metadata": {
        "id": "Th9UWgPxUHDQ"
      },
      "outputs": [],
      "source": [
        "y_prev_cat = model.predict(X_test)\n",
        "y_prev = np.argmax(y_prev_cat, axis=1)\n"
      ]
    },
    {
      "cell_type": "code",
      "execution_count": null,
      "metadata": {},
      "outputs": [],
      "source": [
        "accuracy_score(y_test, y_prev)"
      ]
    },
    {
      "cell_type": "code",
      "execution_count": null,
      "metadata": {
        "id": "_6EJnHkWUOuV"
      },
      "outputs": [],
      "source": [
        "f1_score(y_test, y_prev, average='macro')"
      ]
    },
    {
      "cell_type": "code",
      "execution_count": null,
      "metadata": {
        "id": "XM_uFy0nYy8C"
      },
      "outputs": [],
      "source": []
    },
    {
      "cell_type": "markdown",
      "metadata": {
        "id": "NDs2KHlXYzrq"
      },
      "source": [
        "## Previsões com a MobileNet\n",
        "\n",
        "A MobileNet é uma arquitetura de rede neural convolucional (CNN) projetada para aplicações de visão computacional em dispositivos móveis e com recursos limitados de computação. Ela foi desenvolvida pelo Google em 2017 para atender à crescente demanda por modelos de aprendizado profundo eficientes em termos de computação e recursos para dispositivos móveis, como smartphones e tablets.\n",
        "\n",
        "O principal objetivo do MobileNet é oferecer desempenho suficiente para tarefas de visão computacional, como detecção de objetos e reconhecimento de imagem, enquanto mantém uma arquitetura leve e eficiente.\n",
        "\n",
        "Consulte: https://keras.io/api/applications/mobilenet/"
      ]
    },
    {
      "cell_type": "code",
      "execution_count": null,
      "metadata": {
        "id": "GQLbbr59ZBzN"
      },
      "outputs": [],
      "source": []
    }
  ],
  "metadata": {
    "colab": {
      "provenance": []
    },
    "kernelspec": {
      "display_name": "Python 3",
      "name": "python3"
    },
    "language_info": {
      "codemirror_mode": {
        "name": "ipython",
        "version": 3
      },
      "file_extension": ".py",
      "mimetype": "text/x-python",
      "name": "python",
      "nbconvert_exporter": "python",
      "pygments_lexer": "ipython3",
      "version": "3.10.12"
    }
  },
  "nbformat": 4,
  "nbformat_minor": 0
}
