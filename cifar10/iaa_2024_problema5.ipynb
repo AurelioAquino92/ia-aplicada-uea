{
  "cells": [
    {
      "cell_type": "markdown",
      "metadata": {
        "id": "nQSmBmLSfV_o"
      },
      "source": [
        "# Atividade Prática 2.2 - CIFAR 10\n",
        "\n",
        "* Disciplina _Inteligência Artificial Aplicada_\n",
        "* Professora: Elloá B. Guedes (ebgcosta@uea.edu.br)\n",
        "* Data de apresentação: 26 de janeiro de 2024\n",
        "* Data limite de entrega: 01 de fevereiro de 2024\n",
        "\n",
        "\n",
        "## Equipe\n",
        "* Integrante 1: *Aurelio Aquino*\n",
        "* Integrante 2: *Jailson Bina*\n",
        "* Integrante 3: *Sthephany Costa*\n",
        "* Integrante 4: *Erica Veras*\n",
        "* Integrante 5: *Michelle de Carvalho*\n",
        "* Integrante 6: *Fabiano Dolzanes*\n",
        "\n",
        "\n",
        "## Contexto: Classificação de Imagens\n",
        "\n",
        "O CIFAR-10 é um conjunto de dados amplamente utilizado na comunidade de aprendizado de máquina e visão computacional para fins de treinamento e avaliação de algoritmos de classificação de imagem. O nome \"CIFAR\" é uma abreviação de \"Canadian Institute for Advanced Research\" (Instituto Canadense de Pesquisa Avançada), que é a organização que inicialmente coletou e disponibilizou esse conjunto de dados.\n",
        "\n",
        "## Base de Dados\n",
        "\n",
        "Disponível em: https://www.cs.toronto.edu/~kriz/cifar.html"
      ]
    },
    {
      "cell_type": "code",
      "execution_count": null,
      "metadata": {
        "id": "bI7ujTRdfLhh"
      },
      "outputs": [],
      "source": [
        "import keras"
      ]
    },
    {
      "cell_type": "code",
      "execution_count": null,
      "metadata": {
        "id": "ZH_4IWDsfVxT"
      },
      "outputs": [],
      "source": [
        "## Abrir a base de dados\n",
        "(X_train, y_train), (X_test, y_test) = keras.datasets.cifar10.load_data()"
      ]
    },
    {
      "cell_type": "markdown",
      "metadata": {
        "id": "iby-6xhBhSZk"
      },
      "source": [
        "## Análise exploratória\n",
        "\n",
        "1. Quantos exemplos há no conjunto de treino?\n",
        "2. Quantos exemplos há no conjunto de teste?\n",
        "3. Imprima o exemplo 42 do conjunto de treinamento.\n",
        "4. Quantas classes há na tarefa? Qual a nomenclatura?\n",
        "5. Imprima uma amostra de exemplos do conjunto de treinamento\n",
        "6. As classes estão balanceadas no treinamento?\n"
      ]
    },
    {
      "cell_type": "code",
      "execution_count": null,
      "metadata": {
        "id": "dD8FRiZvh5jM"
      },
      "outputs": [],
      "source": [
        "import matplotlib.pyplot as plt\n",
        "for i in range(9):\n",
        " plt.subplot(330 + 1 + i)\n",
        " plt.imshow(X_train[i])\n",
        "plt.show()"
      ]
    },
    {
      "cell_type": "markdown",
      "metadata": {
        "id": "vD3ko4Ja8KBz"
      },
      "source": [
        "## Normalização dos dados de treinamento\n",
        "\n",
        "Para uma melhor performance dos modelos de Redes Neurais no treinamento em bases de dados grandes, o ideal é que os valores de entrada estejam no intervalo [0,1]\n",
        "\n",
        "\n",
        " Relembre que neste cenário que as entradas são matrizes 32x32 de pixels e que o maior valor que um pixel pode assumir é 255"
      ]
    },
    {
      "cell_type": "code",
      "execution_count": null,
      "metadata": {
        "id": "EOcT3Br0jpKz"
      },
      "outputs": [],
      "source": [
        "X_train, X_test = X_train/255, X_test/255"
      ]
    },
    {
      "cell_type": "code",
      "execution_count": null,
      "metadata": {},
      "outputs": [],
      "source": [
        "y_train_categorical = keras.utils.to_categorical(y_train)\n",
        "y_test_categorical = keras.utils.to_categorical(y_test)"
      ]
    },
    {
      "cell_type": "markdown",
      "metadata": {},
      "source": [
        "### Data Augmentation"
      ]
    },
    {
      "cell_type": "code",
      "execution_count": null,
      "metadata": {},
      "outputs": [],
      "source": [
        "datagen = keras.preprocessing.image.ImageDataGenerator(\n",
        "    rotation_range = 15,\n",
        "    horizontal_flip = True,\n",
        "    width_shift_range = 0.2,\n",
        "    height_shift_range = 0.2,\n",
        "    zoom_range = 0.15,\n",
        "    validation_split=0.1\n",
        ")\n",
        "datagen.fit(X_train)"
      ]
    },
    {
      "cell_type": "markdown",
      "metadata": {
        "id": "uDNOqheH82ti"
      },
      "source": [
        "## Definição do modelo\n",
        "\n",
        "Vamos construir uma Rede Neural Convolucional simples, lembrando que:\n",
        "\n",
        "- A dimensão da entrada é 32x32x1.\n",
        "- A Rede convolucional possui estrutura sequencial.\n",
        "- O problema é relativamente simples, pois não há informações de cores.  \n",
        "\n",
        "Essa rede neural terá as seguintes camadas:\n",
        "\n",
        "1. Camada convolucional 2D com 32 neurônios, função relu e filtros (3,3)\n",
        "2. Camada MaxPooling 2D com filtros 2x2\n",
        "3. Camada Flatten\n",
        "4. Rede Neural MLP com 2 camadas para classificar as características extraídas.\n",
        "  - Camanda Densa com 100 neurônios e função de ativação ReLU.\n",
        "  -  Camanda Densa com 1 neurônio para cada classe do problema e função de ativação softmax.\n"
      ]
    },
    {
      "cell_type": "code",
      "execution_count": null,
      "metadata": {
        "id": "vlIVeG1v8I9g"
      },
      "outputs": [],
      "source": [
        "INPUT_SHAPE = (32, 32, 3)\n",
        "BATCH_SIZE = 32\n",
        "EPOCHS = 100"
      ]
    },
    {
      "cell_type": "code",
      "execution_count": null,
      "metadata": {},
      "outputs": [],
      "source": [
        "model = keras.models.Sequential()\n",
        "model.add(keras.layers.Conv2D(32, kernel_size=(3, 3), activation='relu', input_shape=INPUT_SHAPE))\n",
        "model.add(keras.layers.MaxPool2D((2, 2)))\n",
        "model.add(keras.layers.Conv2D(32, kernel_size=(3, 3), activation='relu'))\n",
        "model.add(keras.layers.MaxPool2D((2, 2)))\n",
        "model.add(keras.layers.Flatten())\n",
        "model.add(keras.layers.Dropout(0.2))\n",
        "model.add(keras.layers.Dense(100, activation='relu'))\n",
        "model.add(keras.layers.Dense(100, activation='relu'))\n",
        "model.add(keras.layers.Dense(10, activation='softmax'))"
      ]
    },
    {
      "cell_type": "markdown",
      "metadata": {},
      "source": [
        "### Otimizador Adam"
      ]
    },
    {
      "cell_type": "code",
      "execution_count": null,
      "metadata": {},
      "outputs": [],
      "source": [
        "optAdam = keras.optimizers.Adam()"
      ]
    },
    {
      "cell_type": "code",
      "execution_count": null,
      "metadata": {},
      "outputs": [],
      "source": [
        "model.compile(metrics=['accuracy'], loss='categorical_crossentropy', optimizer=optAdam)"
      ]
    },
    {
      "cell_type": "markdown",
      "metadata": {
        "id": "WqB3Q_PIVD8T"
      },
      "source": [
        "## Visualize a quantidade de parâmetros que o modelo possui"
      ]
    },
    {
      "cell_type": "code",
      "execution_count": null,
      "metadata": {
        "id": "xVcLsxn-SshM"
      },
      "outputs": [],
      "source": [
        "model.summary()"
      ]
    },
    {
      "cell_type": "markdown",
      "metadata": {
        "id": "hfjfTOevVKtQ"
      },
      "source": [
        "## Treinamento do Modelo\n",
        "\n",
        "Efetue o treinamento do modelo com os seguintes parâmetros:\n",
        "\n",
        "- Épocas: 20\n",
        "- batch_size = 32\n",
        "- validation_split = 0.1\n",
        "- verbose = 1"
      ]
    },
    {
      "cell_type": "markdown",
      "metadata": {},
      "source": [
        "### Placa de Video"
      ]
    },
    {
      "cell_type": "code",
      "execution_count": null,
      "metadata": {},
      "outputs": [],
      "source": [
        "import tensorflow as tf\n",
        "tf.config.list_physical_devices('GPU')"
      ]
    },
    {
      "cell_type": "markdown",
      "metadata": {},
      "source": [
        "### Callbacks"
      ]
    },
    {
      "cell_type": "code",
      "execution_count": null,
      "metadata": {},
      "outputs": [],
      "source": [
        "csvloggercb = keras.callbacks.CSVLogger('log.csv')\n",
        "earlystopcb = keras.callbacks.EarlyStopping(monitor='val_accuracy', patience=20, min_delta=0.001, verbose=True)\n",
        "modelcheckpointcb = keras.callbacks.ModelCheckpoint('model.h5', 'val_accuracy', save_best_only=True)"
      ]
    },
    {
      "cell_type": "code",
      "execution_count": null,
      "metadata": {
        "id": "QJl5qCQyQuiG"
      },
      "outputs": [],
      "source": [
        "model.fit_generator(\n",
        "    datagen.flow(X_train,\n",
        "    y_train_categorical),\n",
        "    epochs=EPOCHS,\n",
        "    verbose=1,\n",
        "    callbacks=[csvloggercb, earlystopcb, modelcheckpointcb]\n",
        ")"
      ]
    },
    {
      "cell_type": "markdown",
      "metadata": {
        "id": "tesWTSS4VcNE"
      },
      "source": [
        "## Visualize os gráficos de treinamento do modelo\n",
        "\n",
        "- Perda (loss)\n",
        "- Acurácia"
      ]
    },
    {
      "cell_type": "code",
      "execution_count": null,
      "metadata": {},
      "outputs": [],
      "source": [
        "import pandas as pd\n",
        "\n",
        "df = pd.read_csv('log.csv')\n",
        "df.tail()"
      ]
    },
    {
      "cell_type": "code",
      "execution_count": null,
      "metadata": {},
      "outputs": [],
      "source": [
        "plt.plot(df['loss'])\n",
        "plt.plot(df['val_loss'])\n",
        "plt.show()"
      ]
    },
    {
      "cell_type": "code",
      "execution_count": null,
      "metadata": {},
      "outputs": [],
      "source": [
        "plt.plot(df['accuracy'])\n",
        "plt.plot(df['val_accuracy'])\n",
        "plt.show()"
      ]
    },
    {
      "cell_type": "markdown",
      "metadata": {
        "id": "sDHNtRayVjUX"
      },
      "source": [
        "## Análise de Desempenho\n",
        "\n",
        "Efetue a previsão do modelo para o conjunto de testes e calcule as seguintes métricas\n",
        "\n",
        "- Acurácia\n",
        "- F1-Score\n",
        "\n",
        "Visualize também a matriz de confusão para as previsões efetuadas"
      ]
    },
    {
      "cell_type": "code",
      "execution_count": null,
      "metadata": {},
      "outputs": [],
      "source": [
        "model = keras.models.load_model('model.h5')"
      ]
    },
    {
      "cell_type": "code",
      "execution_count": null,
      "metadata": {
        "id": "HWnMUaEnSqXe"
      },
      "outputs": [],
      "source": [
        "from sklearn.metrics import accuracy_score, f1_score\n",
        "import numpy as np"
      ]
    },
    {
      "cell_type": "code",
      "execution_count": null,
      "metadata": {
        "id": "Th9UWgPxUHDQ"
      },
      "outputs": [],
      "source": [
        "y_prev_categorical = model.predict(X_test)\n",
        "y_prev = np.argmax(y_prev_categorical, axis=1)"
      ]
    },
    {
      "cell_type": "code",
      "execution_count": null,
      "metadata": {},
      "outputs": [],
      "source": [
        "accuracy_score(y_test, y_prev)"
      ]
    },
    {
      "cell_type": "code",
      "execution_count": null,
      "metadata": {
        "id": "_6EJnHkWUOuV"
      },
      "outputs": [],
      "source": [
        "f1_score(y_test, y_prev, average='macro')"
      ]
    },
    {
      "cell_type": "markdown",
      "metadata": {
        "id": "NDs2KHlXYzrq"
      },
      "source": [
        "## Previsões com a MobileNet\n",
        "\n",
        "A MobileNet é uma arquitetura de rede neural convolucional (CNN) projetada para aplicações de visão computacional em dispositivos móveis e com recursos limitados de computação. Ela foi desenvolvida pelo Google em 2017 para atender à crescente demanda por modelos de aprendizado profundo eficientes em termos de computação e recursos para dispositivos móveis, como smartphones e tablets.\n",
        "\n",
        "O principal objetivo do MobileNet é oferecer desempenho suficiente para tarefas de visão computacional, como detecção de objetos e reconhecimento de imagem, enquanto mantém uma arquitetura leve e eficiente.\n",
        "\n",
        "Consulte: https://keras.io/api/applications/mobilenet/"
      ]
    },
    {
      "cell_type": "code",
      "execution_count": null,
      "metadata": {
        "id": "GQLbbr59ZBzN"
      },
      "outputs": [],
      "source": [
        "from keras.applications import MobileNetV2\n",
        "\n",
        "mobile = MobileNetV2(include_top=False, input_shape=INPUT_SHAPE, classes=10)\n",
        "\n",
        "x = keras.layers.BatchNormalization()(mobile.output)\n",
        "x = keras.layers.Flatten()(x)\n",
        "x = keras.layers.Dropout(0.5)(x)\n",
        "x = keras.layers.Dense(100, 'relu')(x)\n",
        "x = keras.layers.Dropout(0.5)(x)\n",
        "x = keras.layers.Dense(100, 'relu')(x)\n",
        "predictions = keras.layers.Dense(10, 'softmax')(x)\n",
        "mobile = keras.models.Model(mobile.input, predictions)\n",
        "mobile.compile(loss='categorical_crossentropy', metrics=['accuracy'])"
      ]
    },
    {
      "cell_type": "code",
      "execution_count": null,
      "metadata": {},
      "outputs": [],
      "source": [
        "csvloggercb = keras.callbacks.CSVLogger('log-mobile.csv')\n",
        "earlystopcb = keras.callbacks.EarlyStopping(monitor='val_accuracy', patience=20, min_delta=0.001, verbose=True)\n",
        "modelcheckpointcb = keras.callbacks.ModelCheckpoint('mobile.h5', 'val_accuracy', save_best_only=True)\n",
        "cbs = [csvloggercb, earlystopcb, modelcheckpointcb]"
      ]
    },
    {
      "cell_type": "code",
      "execution_count": 40,
      "metadata": {},
      "outputs": [
        {
          "name": "stdout",
          "output_type": "stream",
          "text": [
            "Epoch 1/100\n",
            "1407/1407 [==============================] - ETA: 0s - loss: 1.5476 - accuracy: 0.4378"
          ]
        },
        {
          "name": "stderr",
          "output_type": "stream",
          "text": [
            "/home/aurelio/.local/lib/python3.10/site-packages/keras/src/engine/training.py:3103: UserWarning: You are saving your model as an HDF5 file via `model.save()`. This file format is considered legacy. We recommend using instead the native Keras format, e.g. `model.save('my_model.keras')`.\n",
            "  saving_api.save_model(\n"
          ]
        },
        {
          "name": "stdout",
          "output_type": "stream",
          "text": [
            "1407/1407 [==============================] - 148s 105ms/step - loss: 1.5476 - accuracy: 0.4378 - val_loss: 3.8463 - val_accuracy: 0.4090\n",
            "Epoch 2/100\n",
            "1407/1407 [==============================] - 176s 125ms/step - loss: 1.2708 - accuracy: 0.5814 - val_loss: 2.0458 - val_accuracy: 0.5070\n",
            "Epoch 3/100\n",
            "1407/1407 [==============================] - 175s 124ms/step - loss: 1.1326 - accuracy: 0.6450 - val_loss: 2.1735 - val_accuracy: 0.5152\n",
            "Epoch 4/100\n",
            "1407/1407 [==============================] - 103s 73ms/step - loss: 1.0716 - accuracy: 0.6662 - val_loss: 1.8816 - val_accuracy: 0.5514\n",
            "Epoch 5/100\n",
            "1407/1407 [==============================] - 88s 62ms/step - loss: 1.0198 - accuracy: 0.6863 - val_loss: 1.5760 - val_accuracy: 0.6270\n",
            "Epoch 6/100\n",
            "1407/1407 [==============================] - 177s 126ms/step - loss: 0.9829 - accuracy: 0.7014 - val_loss: 1.1685 - val_accuracy: 0.6708\n",
            "Epoch 7/100\n",
            "1407/1407 [==============================] - 169s 120ms/step - loss: 0.9596 - accuracy: 0.7108 - val_loss: 2.1392 - val_accuracy: 0.6162\n",
            "Epoch 8/100\n",
            "1407/1407 [==============================] - 176s 125ms/step - loss: 0.9397 - accuracy: 0.7212 - val_loss: 0.9963 - val_accuracy: 0.7194\n",
            "Epoch 9/100\n",
            "1407/1407 [==============================] - 174s 124ms/step - loss: 0.9151 - accuracy: 0.7276 - val_loss: 1.0634 - val_accuracy: 0.6896\n",
            "Epoch 10/100\n",
            "1407/1407 [==============================] - 132s 94ms/step - loss: 0.9054 - accuracy: 0.7349 - val_loss: 1.0466 - val_accuracy: 0.7080\n",
            "Epoch 11/100\n",
            "1407/1407 [==============================] - 112s 80ms/step - loss: 0.8956 - accuracy: 0.7389 - val_loss: 0.9940 - val_accuracy: 0.7226\n",
            "Epoch 12/100\n",
            "1407/1407 [==============================] - 177s 126ms/step - loss: 0.8820 - accuracy: 0.7432 - val_loss: 1.0494 - val_accuracy: 0.6858\n",
            "Epoch 13/100\n",
            "1407/1407 [==============================] - 126s 90ms/step - loss: 0.8613 - accuracy: 0.7494 - val_loss: 1.3739 - val_accuracy: 0.6172\n",
            "Epoch 14/100\n",
            "1407/1407 [==============================] - 176s 125ms/step - loss: 0.8493 - accuracy: 0.7531 - val_loss: 0.9873 - val_accuracy: 0.7344\n",
            "Epoch 15/100\n",
            "1407/1407 [==============================] - 176s 125ms/step - loss: 0.8376 - accuracy: 0.7593 - val_loss: 0.9653 - val_accuracy: 0.7044\n",
            "Epoch 16/100\n",
            "1407/1407 [==============================] - 176s 125ms/step - loss: 0.8337 - accuracy: 0.7610 - val_loss: 1.0410 - val_accuracy: 0.6688\n",
            "Epoch 17/100\n",
            "1407/1407 [==============================] - 176s 125ms/step - loss: 0.8186 - accuracy: 0.7679 - val_loss: 0.9974 - val_accuracy: 0.7226\n",
            "Epoch 18/100\n",
            "1407/1407 [==============================] - 177s 125ms/step - loss: 0.7917 - accuracy: 0.7743 - val_loss: 0.8569 - val_accuracy: 0.7432\n",
            "Epoch 19/100\n",
            "1407/1407 [==============================] - 164s 116ms/step - loss: 0.7948 - accuracy: 0.7760 - val_loss: 0.8293 - val_accuracy: 0.7634\n",
            "Epoch 20/100\n",
            "1407/1407 [==============================] - 42s 30ms/step - loss: 0.7971 - accuracy: 0.7776 - val_loss: 1.1230 - val_accuracy: 0.7108\n",
            "Epoch 21/100\n",
            "1407/1407 [==============================] - 108s 77ms/step - loss: 0.7821 - accuracy: 0.7810 - val_loss: 0.9510 - val_accuracy: 0.7190\n",
            "Epoch 22/100\n",
            "1407/1407 [==============================] - 169s 120ms/step - loss: 0.7698 - accuracy: 0.7852 - val_loss: 0.9082 - val_accuracy: 0.7184\n",
            "Epoch 23/100\n",
            "1407/1407 [==============================] - 166s 118ms/step - loss: 0.7505 - accuracy: 0.7884 - val_loss: 0.9247 - val_accuracy: 0.7110\n",
            "Epoch 24/100\n",
            "1407/1407 [==============================] - 170s 121ms/step - loss: 0.7456 - accuracy: 0.7926 - val_loss: 1.0634 - val_accuracy: 0.6780\n",
            "Epoch 25/100\n",
            "1407/1407 [==============================] - 156s 111ms/step - loss: 0.7489 - accuracy: 0.7946 - val_loss: 1.1093 - val_accuracy: 0.7088\n",
            "Epoch 26/100\n",
            "1407/1407 [==============================] - 171s 121ms/step - loss: 0.7394 - accuracy: 0.7949 - val_loss: 0.9550 - val_accuracy: 0.7250\n",
            "Epoch 27/100\n",
            "1407/1407 [==============================] - 166s 118ms/step - loss: 0.7297 - accuracy: 0.7996 - val_loss: 1.2113 - val_accuracy: 0.6674\n",
            "Epoch 28/100\n",
            "1407/1407 [==============================] - 171s 121ms/step - loss: 0.7057 - accuracy: 0.8049 - val_loss: 0.8352 - val_accuracy: 0.7510\n",
            "Epoch 29/100\n",
            "1407/1407 [==============================] - 168s 120ms/step - loss: 0.7083 - accuracy: 0.8096 - val_loss: 1.0846 - val_accuracy: 0.6830\n",
            "Epoch 30/100\n",
            "1407/1407 [==============================] - 163s 116ms/step - loss: 0.6981 - accuracy: 0.8125 - val_loss: 1.0828 - val_accuracy: 0.6708\n",
            "Epoch 31/100\n",
            "1407/1407 [==============================] - 161s 114ms/step - loss: 0.6988 - accuracy: 0.8138 - val_loss: 0.8906 - val_accuracy: 0.7252\n",
            "Epoch 32/100\n",
            "1407/1407 [==============================] - 172s 122ms/step - loss: 0.6985 - accuracy: 0.8183 - val_loss: 0.9446 - val_accuracy: 0.7208\n",
            "Epoch 33/100\n",
            "1407/1407 [==============================] - 131s 93ms/step - loss: 0.6883 - accuracy: 0.8185 - val_loss: 0.8972 - val_accuracy: 0.7460\n",
            "Epoch 34/100\n",
            "1407/1407 [==============================] - 39s 28ms/step - loss: 0.6828 - accuracy: 0.8187 - val_loss: 1.0827 - val_accuracy: 0.7072\n",
            "Epoch 35/100\n",
            "1407/1407 [==============================] - 39s 28ms/step - loss: 0.6825 - accuracy: 0.8198 - val_loss: 0.7938 - val_accuracy: 0.7572\n",
            "Epoch 36/100\n",
            "1407/1407 [==============================] - 42s 30ms/step - loss: 0.6800 - accuracy: 0.8254 - val_loss: 1.1053 - val_accuracy: 0.6584\n",
            "Epoch 37/100\n",
            "1407/1407 [==============================] - 52s 37ms/step - loss: 0.6673 - accuracy: 0.8248 - val_loss: 0.9186 - val_accuracy: 0.6990\n",
            "Epoch 38/100\n",
            "1407/1407 [==============================] - 46s 33ms/step - loss: 0.6680 - accuracy: 0.8262 - val_loss: 0.7896 - val_accuracy: 0.7756\n",
            "Epoch 39/100\n",
            "1407/1407 [==============================] - 41s 29ms/step - loss: 0.6602 - accuracy: 0.8281 - val_loss: 0.8761 - val_accuracy: 0.7568\n",
            "Epoch 40/100\n",
            "1407/1407 [==============================] - 106s 76ms/step - loss: 0.6782 - accuracy: 0.8292 - val_loss: 0.9525 - val_accuracy: 0.7012\n",
            "Epoch 41/100\n",
            "1407/1407 [==============================] - 55s 39ms/step - loss: 0.6684 - accuracy: 0.8280 - val_loss: 1.1090 - val_accuracy: 0.6976\n",
            "Epoch 42/100\n",
            "1407/1407 [==============================] - 121s 86ms/step - loss: 0.7020 - accuracy: 0.8309 - val_loss: 0.8499 - val_accuracy: 0.7692\n",
            "Epoch 43/100\n",
            "1407/1407 [==============================] - 68s 48ms/step - loss: 0.6552 - accuracy: 0.8325 - val_loss: 1.0092 - val_accuracy: 0.6924\n",
            "Epoch 44/100\n",
            "1407/1407 [==============================] - 121s 86ms/step - loss: 0.6591 - accuracy: 0.8316 - val_loss: 0.8408 - val_accuracy: 0.7456\n",
            "Epoch 45/100\n",
            "1407/1407 [==============================] - 160s 114ms/step - loss: 0.6546 - accuracy: 0.8295 - val_loss: 0.8261 - val_accuracy: 0.7522\n",
            "Epoch 46/100\n",
            "1407/1407 [==============================] - 163s 116ms/step - loss: 0.6775 - accuracy: 0.8311 - val_loss: 0.9018 - val_accuracy: 0.7374\n",
            "Epoch 47/100\n",
            "1407/1407 [==============================] - 166s 118ms/step - loss: 0.6562 - accuracy: 0.8354 - val_loss: 0.8080 - val_accuracy: 0.7574\n",
            "Epoch 48/100\n",
            "1407/1407 [==============================] - 168s 119ms/step - loss: 0.6535 - accuracy: 0.8373 - val_loss: 0.8772 - val_accuracy: 0.7670\n",
            "Epoch 49/100\n",
            "1407/1407 [==============================] - 165s 117ms/step - loss: 0.6200 - accuracy: 0.8398 - val_loss: 0.9249 - val_accuracy: 0.7336\n",
            "Epoch 50/100\n",
            "1407/1407 [==============================] - 164s 116ms/step - loss: 0.6370 - accuracy: 0.8392 - val_loss: 0.8900 - val_accuracy: 0.7486\n",
            "Epoch 51/100\n",
            "1407/1407 [==============================] - 158s 112ms/step - loss: 0.6538 - accuracy: 0.8390 - val_loss: 0.9176 - val_accuracy: 0.7276\n",
            "Epoch 52/100\n",
            "1407/1407 [==============================] - 104s 74ms/step - loss: 0.6633 - accuracy: 0.8378 - val_loss: 0.8728 - val_accuracy: 0.7762\n",
            "Epoch 53/100\n",
            "1407/1407 [==============================] - 40s 28ms/step - loss: 0.6627 - accuracy: 0.8368 - val_loss: 0.8961 - val_accuracy: 0.7376\n",
            "Epoch 54/100\n",
            "1407/1407 [==============================] - 41s 29ms/step - loss: 0.6297 - accuracy: 0.8397 - val_loss: 1.0314 - val_accuracy: 0.7402\n",
            "Epoch 55/100\n",
            "1407/1407 [==============================] - 39s 28ms/step - loss: 0.6221 - accuracy: 0.8474 - val_loss: 0.8481 - val_accuracy: 0.7406\n",
            "Epoch 56/100\n",
            "1407/1407 [==============================] - 53s 38ms/step - loss: 0.6309 - accuracy: 0.8449 - val_loss: 0.7743 - val_accuracy: 0.7672\n",
            "Epoch 57/100\n",
            "1407/1407 [==============================] - 101s 72ms/step - loss: 0.6414 - accuracy: 0.8414 - val_loss: 0.8145 - val_accuracy: 0.7734\n",
            "Epoch 58/100\n",
            "1407/1407 [==============================] - 99s 70ms/step - loss: 0.6055 - accuracy: 0.8450 - val_loss: 1.0645 - val_accuracy: 0.7490\n",
            "Epoch 58: early stopping\n"
          ]
        },
        {
          "data": {
            "text/plain": [
              "<keras.src.callbacks.History at 0x7faa5c7b1d50>"
            ]
          },
          "execution_count": 40,
          "metadata": {},
          "output_type": "execute_result"
        }
      ],
      "source": [
        "mobile.fit(X_train, y_train_categorical, epochs=EPOCHS, batch_size=BATCH_SIZE, validation_split=0.1, verbose=1, callbacks=cbs)"
      ]
    },
    {
      "cell_type": "code",
      "execution_count": 41,
      "metadata": {},
      "outputs": [
        {
          "data": {
            "text/html": [
              "<div>\n",
              "<style scoped>\n",
              "    .dataframe tbody tr th:only-of-type {\n",
              "        vertical-align: middle;\n",
              "    }\n",
              "\n",
              "    .dataframe tbody tr th {\n",
              "        vertical-align: top;\n",
              "    }\n",
              "\n",
              "    .dataframe thead th {\n",
              "        text-align: right;\n",
              "    }\n",
              "</style>\n",
              "<table border=\"1\" class=\"dataframe\">\n",
              "  <thead>\n",
              "    <tr style=\"text-align: right;\">\n",
              "      <th></th>\n",
              "      <th>epoch</th>\n",
              "      <th>accuracy</th>\n",
              "      <th>loss</th>\n",
              "      <th>val_accuracy</th>\n",
              "      <th>val_loss</th>\n",
              "    </tr>\n",
              "  </thead>\n",
              "  <tbody>\n",
              "    <tr>\n",
              "      <th>53</th>\n",
              "      <td>53</td>\n",
              "      <td>0.839689</td>\n",
              "      <td>0.629698</td>\n",
              "      <td>0.7402</td>\n",
              "      <td>1.031448</td>\n",
              "    </tr>\n",
              "    <tr>\n",
              "      <th>54</th>\n",
              "      <td>54</td>\n",
              "      <td>0.847444</td>\n",
              "      <td>0.622111</td>\n",
              "      <td>0.7406</td>\n",
              "      <td>0.848133</td>\n",
              "    </tr>\n",
              "    <tr>\n",
              "      <th>55</th>\n",
              "      <td>55</td>\n",
              "      <td>0.844867</td>\n",
              "      <td>0.630883</td>\n",
              "      <td>0.7672</td>\n",
              "      <td>0.774261</td>\n",
              "    </tr>\n",
              "    <tr>\n",
              "      <th>56</th>\n",
              "      <td>56</td>\n",
              "      <td>0.841400</td>\n",
              "      <td>0.641378</td>\n",
              "      <td>0.7734</td>\n",
              "      <td>0.814477</td>\n",
              "    </tr>\n",
              "    <tr>\n",
              "      <th>57</th>\n",
              "      <td>57</td>\n",
              "      <td>0.845044</td>\n",
              "      <td>0.605454</td>\n",
              "      <td>0.7490</td>\n",
              "      <td>1.064519</td>\n",
              "    </tr>\n",
              "  </tbody>\n",
              "</table>\n",
              "</div>"
            ],
            "text/plain": [
              "    epoch  accuracy      loss  val_accuracy  val_loss\n",
              "53     53  0.839689  0.629698        0.7402  1.031448\n",
              "54     54  0.847444  0.622111        0.7406  0.848133\n",
              "55     55  0.844867  0.630883        0.7672  0.774261\n",
              "56     56  0.841400  0.641378        0.7734  0.814477\n",
              "57     57  0.845044  0.605454        0.7490  1.064519"
            ]
          },
          "execution_count": 41,
          "metadata": {},
          "output_type": "execute_result"
        }
      ],
      "source": [
        "import pandas as pd\n",
        "\n",
        "df = pd.read_csv('log-mobile.csv')\n",
        "df.tail()"
      ]
    },
    {
      "cell_type": "code",
      "execution_count": 42,
      "metadata": {},
      "outputs": [
        {
          "data": {
            "image/png": "[encoded data removed]",
            "text/plain": [
              "<Figure size 432x288 with 1 Axes>"
            ]
          },
          "metadata": {
            "needs_background": "light"
          },
          "output_type": "display_data"
        }
      ],
      "source": [
        "plt.plot(df['accuracy'])\n",
        "plt.plot(df['val_accuracy'])\n",
        "plt.show()"
      ]
    }
  ],
  "metadata": {
    "colab": {
      "provenance": []
    },
    "kernelspec": {
      "display_name": "Python 3",
      "name": "python3"
    },
    "language_info": {
      "codemirror_mode": {
        "name": "ipython",
        "version": 3
      },
      "file_extension": ".py",
      "mimetype": "text/x-python",
      "name": "python",
      "nbconvert_exporter": "python",
      "pygments_lexer": "ipython3",
      "version": "3.10.12"
    }
  },
  "nbformat": 4,
  "nbformat_minor": 0
}
